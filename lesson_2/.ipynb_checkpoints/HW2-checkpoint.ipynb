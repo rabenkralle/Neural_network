{
 "cells": [
  {
   "cell_type": "markdown",
   "metadata": {
    "id": "NRSQbmXD9U98"
   },
   "source": [
    "## Практическое задание\n",
    "\n",
    "Используем набор примеров fashion-MNIST\n",
    "\n",
    "1.  Опишите - какой результата получен в нейросети в зависимости от:\n",
    "  -  числа нейронов в слое(для 2-хслойной сети), \n",
    "  - числа слоев (2, 3, 5, 10) при близких размерах сети (близкое число тренируемых парметров).\n",
    "  - фиксируйте для тренировочного и тестового набора метрики accuracy.\n",
    "2.  Проверьте работу разных оптимизаторов (SGD, Adam, RMSProp) для одной из моделей п.1.Фиксируйте для тренировочного и тестового набора метрики accuracy.\n",
    "\n",
    "3. Сделайте вывод - что помогло вам улучшить качество классификации в нейросети на тестовом наборе? \n",
    "\n",
    "4. Для одного варианта сетей сформируйте матрицу ошибок по классам. Оцените качество модели по каждому классу отдельно (полнота , точность)"
   ]
  },
  {
   "cell_type": "code",
   "execution_count": 22,
   "metadata": {},
   "outputs": [],
   "source": [
    "import numpy as np\n",
    "import keras\n",
    "from keras.models import Sequential\n",
    "from keras.layers import Dense\n",
    "from keras.utils import to_categorical\n",
    "from keras.datasets import fashion_mnist\n",
    "\n",
    "import matplotlib.pyplot as plt\n",
    "import pandas as pd"
   ]
  },
  {
   "cell_type": "code",
   "execution_count": 62,
   "metadata": {
    "id": "cnrrzpi6NBLV",
    "scrolled": true
   },
   "outputs": [],
   "source": [
    "(train_images,train_labels),(test_images,test_labels)=fashion_mnist.load_data()"
   ]
  },
  {
   "cell_type": "code",
   "execution_count": 6,
   "metadata": {
    "colab": {
     "base_uri": "https://localhost:8080/",
     "height": 265
    },
    "id": "HgkWr0rjE47r",
    "outputId": "6362ec40-11f9-47ac-856c-b9feaf9f94a4",
    "scrolled": true
   },
   "outputs": [
    {
     "data": {
      "image/png": "[encoded data removed]",
      "text/plain": [
       "<Figure size 432x288 with 1 Axes>"
      ]
     },
     "metadata": {
      "needs_background": "light"
     },
     "output_type": "display_data"
    }
   ],
   "source": [
    "plt.imshow(train_images[20,:,:])\n",
    "plt.show()"
   ]
  },
  {
   "cell_type": "code",
   "execution_count": 63,
   "metadata": {},
   "outputs": [
    {
     "data": {
      "text/plain": [
       "(60000, 28, 28)"
      ]
     },
     "execution_count": 63,
     "metadata": {},
     "output_type": "execute_result"
    }
   ],
   "source": [
    "train_images.shape"
   ]
  },
  {
   "cell_type": "code",
   "execution_count": 64,
   "metadata": {},
   "outputs": [],
   "source": [
    "# Normalize the images.\n",
    "train_images = (train_images / 255) - 0.5\n",
    "test_images = (test_images / 255) - 0.5"
   ]
  },
  {
   "cell_type": "code",
   "execution_count": 65,
   "metadata": {},
   "outputs": [
    {
     "name": "stdout",
     "output_type": "stream",
     "text": [
      "(60000, 28, 28)\n",
      "(10000, 28, 28)\n"
     ]
    }
   ],
   "source": [
    "print(train_images.shape) # (60000, 28, 28)\n",
    "print(test_images.shape)  # (10000, 28, 28)"
   ]
  },
  {
   "cell_type": "code",
   "execution_count": 66,
   "metadata": {},
   "outputs": [
    {
     "name": "stdout",
     "output_type": "stream",
     "text": [
      "(60000, 784)\n",
      "(10000, 784)\n"
     ]
    }
   ],
   "source": [
    "# Flatten the images.\n",
    "train_images = train_images.reshape((-1, train_images.shape[1] * train_images.shape[2]))\n",
    "test_images = test_images.reshape((-1, test_images.shape[1] * test_images.shape[2]))\n",
    "\n",
    "print(train_images.shape) # (60000, 784)\n",
    "print(test_images.shape)  # (10000, 784)"
   ]
  },
  {
   "cell_type": "code",
   "execution_count": 12,
   "metadata": {},
   "outputs": [
    {
     "data": {
      "text/plain": [
       "array([0, 1, 2, 3, 4, 5, 6, 7, 8, 9], dtype=uint8)"
      ]
     },
     "execution_count": 12,
     "metadata": {},
     "output_type": "execute_result"
    }
   ],
   "source": [
    "np.unique(train_labels)"
   ]
  },
  {
   "cell_type": "code",
   "execution_count": 67,
   "metadata": {},
   "outputs": [],
   "source": [
    "model1 = Sequential(name='my_model1')\n",
    "model1.add(Dense(128, activation='relu', input_shape=(784,)))\n",
    "\n",
    "model1.add(Dense(10, activation='softmax'))"
   ]
  },
  {
   "cell_type": "code",
   "execution_count": 117,
   "metadata": {},
   "outputs": [],
   "source": [
    "model1.compile(\n",
    "  optimizer='adam',\n",
    "  loss='categorical_crossentropy',\n",
    "  metrics=['accuracy'],\n",
    ")"
   ]
  },
  {
   "cell_type": "code",
   "execution_count": 69,
   "metadata": {},
   "outputs": [
    {
     "name": "stdout",
     "output_type": "stream",
     "text": [
      "Model: \"my_model\"\n",
      "_________________________________________________________________\n",
      "Layer (type)                 Output Shape              Param #   \n",
      "=================================================================\n",
      "dense_37 (Dense)             (None, 128)               100480    \n",
      "_________________________________________________________________\n",
      "dense_38 (Dense)             (None, 10)                1290      \n",
      "=================================================================\n",
      "Total params: 101,770\n",
      "Trainable params: 101,770\n",
      "Non-trainable params: 0\n",
      "_________________________________________________________________\n"
     ]
    }
   ],
   "source": [
    "model1.summary()"
   ]
  },
  {
   "cell_type": "code",
   "execution_count": 118,
   "metadata": {},
   "outputs": [
    {
     "name": "stdout",
     "output_type": "stream",
     "text": [
      "Epoch 1/5\n",
      "1500/1500 [==============================] - 2s 1ms/step - loss: 0.2884 - accuracy: 0.8929 - val_loss: 0.3531 - val_accuracy: 0.8727\n",
      "Epoch 2/5\n",
      "1500/1500 [==============================] - 2s 1ms/step - loss: 0.2701 - accuracy: 0.8999 - val_loss: 0.3523 - val_accuracy: 0.8742\n",
      "Epoch 3/5\n",
      "1500/1500 [==============================] - 1s 880us/step - loss: 0.2603 - accuracy: 0.9038 - val_loss: 0.3385 - val_accuracy: 0.8807\n",
      "Epoch 4/5\n",
      "1500/1500 [==============================] - 1s 853us/step - loss: 0.2495 - accuracy: 0.9071 - val_loss: 0.3321 - val_accuracy: 0.8865\n",
      "Epoch 5/5\n",
      "1500/1500 [==============================] - 1s 922us/step - loss: 0.2376 - accuracy: 0.9116 - val_loss: 0.3294 - val_accuracy: 0.8842\n",
      "313/313 [==============================] - 0s 955us/step - loss: 0.3526 - accuracy: 0.8791\n",
      "WARNING:tensorflow:7 out of the last 13 calls to <function Model.make_predict_function.<locals>.predict_function at 0x000001D85273DEE8> triggered tf.function retracing. Tracing is expensive and the excessive number of tracings could be due to (1) creating @tf.function repeatedly in a loop, (2) passing tensors with different shapes, (3) passing Python objects instead of tensors. For (1), please define your @tf.function outside of the loop. For (2), @tf.function has experimental_relax_shapes=True option that relaxes argument shapes that can avoid unnecessary retracing. For (3), please refer to https://www.tensorflow.org/tutorials/customization/performance#python_or_tensor_args and https://www.tensorflow.org/api_docs/python/tf/function for  more details.\n",
      "[9 2 1 1 6]\n",
      "[9 2 1 1 6]\n"
     ]
    }
   ],
   "source": [
    "\n",
    "# Train the model.\n",
    "hh = model1.fit(\n",
    "  train_images,\n",
    "  to_categorical(train_labels),\n",
    "  epochs=5,\n",
    "  batch_size=32, validation_split=0.2\n",
    ")\n",
    "\n",
    "# Evaluate the model.\n",
    "model1.evaluate(\n",
    "  test_images,\n",
    "  to_categorical(test_labels)\n",
    ")\n",
    "\n",
    "# Predict on the first 5 test images.\n",
    "predictions = model1.predict(test_images[:5])\n",
    "\n",
    "# Print our model's predictions.\n",
    "print(np.argmax(predictions, axis=1)) \n",
    "\n",
    "# Check our predictions against the ground truths.\n",
    "print(test_labels[:5]) "
   ]
  },
  {
   "cell_type": "code",
   "execution_count": 17,
   "metadata": {
    "scrolled": true
   },
   "outputs": [
    {
     "data": {
      "text/plain": [
       "{'loss': [0.5075510144233704,\n",
       "  0.3879404664039612,\n",
       "  0.34890320897102356,\n",
       "  0.32252010703086853,\n",
       "  0.30242010951042175],\n",
       " 'accuracy': [0.817062497138977,\n",
       "  0.8597708344459534,\n",
       "  0.8732708096504211,\n",
       "  0.8819791674613953,\n",
       "  0.8884791731834412],\n",
       " 'val_loss': [0.43672165274620056,\n",
       "  0.36917129158973694,\n",
       "  0.36532026529312134,\n",
       "  0.33834949135780334,\n",
       "  0.34206974506378174],\n",
       " 'val_accuracy': [0.8368333578109741,\n",
       "  0.8641666769981384,\n",
       "  0.8684166669845581,\n",
       "  0.8778333067893982,\n",
       "  0.8755833506584167]}"
      ]
     },
     "execution_count": 17,
     "metadata": {},
     "output_type": "execute_result"
    }
   ],
   "source": [
    "hh.history"
   ]
  },
  {
   "cell_type": "code",
   "execution_count": 18,
   "metadata": {},
   "outputs": [],
   "source": [
    "model2 = Sequential(name='my_model2')\n",
    "model2.add(Dense(64, activation='relu', input_shape=(784,)))\n",
    "\n",
    "model2.add(Dense(10, activation='softmax'))"
   ]
  },
  {
   "cell_type": "code",
   "execution_count": 19,
   "metadata": {},
   "outputs": [],
   "source": [
    "model2.compile(\n",
    "  optimizer='adam',\n",
    "  loss='categorical_crossentropy',\n",
    "  metrics=['accuracy'],\n",
    ")"
   ]
  },
  {
   "cell_type": "code",
   "execution_count": 20,
   "metadata": {},
   "outputs": [
    {
     "name": "stdout",
     "output_type": "stream",
     "text": [
      "Model: \"my_model2\"\n",
      "_________________________________________________________________\n",
      "Layer (type)                 Output Shape              Param #   \n",
      "=================================================================\n",
      "dense_2 (Dense)              (None, 64)                50240     \n",
      "_________________________________________________________________\n",
      "dense_3 (Dense)              (None, 10)                650       \n",
      "=================================================================\n",
      "Total params: 50,890\n",
      "Trainable params: 50,890\n",
      "Non-trainable params: 0\n",
      "_________________________________________________________________\n"
     ]
    }
   ],
   "source": [
    "model2.summary()"
   ]
  },
  {
   "cell_type": "code",
   "execution_count": 21,
   "metadata": {},
   "outputs": [
    {
     "name": "stdout",
     "output_type": "stream",
     "text": [
      "Epoch 1/5\n",
      "1500/1500 [==============================] - 1s 938us/step - loss: 0.5190 - accuracy: 0.8161 - val_loss: 0.4758 - val_accuracy: 0.8323\n",
      "Epoch 2/5\n",
      "1500/1500 [==============================] - 1s 684us/step - loss: 0.4023 - accuracy: 0.8547 - val_loss: 0.3965 - val_accuracy: 0.8596\n",
      "Epoch 3/5\n",
      "1500/1500 [==============================] - 1s 775us/step - loss: 0.3651 - accuracy: 0.8682 - val_loss: 0.3656 - val_accuracy: 0.8685\n",
      "Epoch 4/5\n",
      "1500/1500 [==============================] - 1s 688us/step - loss: 0.3417 - accuracy: 0.8746 - val_loss: 0.3805 - val_accuracy: 0.8610\n",
      "Epoch 5/5\n",
      "1500/1500 [==============================] - 1s 682us/step - loss: 0.3230 - accuracy: 0.8814 - val_loss: 0.3469 - val_accuracy: 0.8733\n",
      "313/313 [==============================] - 0s 797us/step - loss: 0.3704 - accuracy: 0.8679\n",
      "[9 2 1 1 6]\n",
      "[9 2 1 1 6]\n"
     ]
    }
   ],
   "source": [
    "\n",
    "# Train the model.\n",
    "hh2 = model2.fit(\n",
    "  train_images,\n",
    "  to_categorical(train_labels),\n",
    "  epochs=5,\n",
    "  batch_size=32, validation_split=0.2\n",
    ")\n",
    "\n",
    "# Evaluate the model.\n",
    "model2.evaluate(\n",
    "  test_images,\n",
    "  to_categorical(test_labels)\n",
    ")\n",
    "\n",
    "# Predict on the first 5 test images.\n",
    "predictions = model2.predict(test_images[:5])\n",
    "\n",
    "# Print our model's predictions.\n",
    "print(np.argmax(predictions, axis=1)) \n",
    "\n",
    "# Check our predictions against the ground truths.\n",
    "print(test_labels[:5]) "
   ]
  },
  {
   "cell_type": "code",
   "execution_count": 28,
   "metadata": {},
   "outputs": [],
   "source": [
    "layers1 = [\n",
    "        Dense(64, activation='relu', input_shape=(784,)),\n",
    "        Dense(64, activation='tanh'),\n",
    "        Dense(10, activation='softmax'),\n",
    "                      ]\n",
    "layers2 = [\n",
    "        Dense(64, activation='relu', input_shape=(784,)),\n",
    "        Dense(64, activation='tanh'),\n",
    "        Dense(64, activation='tanh'),\n",
    "        Dense(64, activation='tanh'),\n",
    "        Dense(10, activation='softmax'),\n",
    "                      ]\n",
    "layers3 = [\n",
    "        Dense(64, activation='relu', input_shape=(784,)),\n",
    "        Dense(64, activation='tanh'),\n",
    "        Dense(64, activation='tanh'),\n",
    "        Dense(64, activation='tanh'),\n",
    "        Dense(64, activation='tanh'),\n",
    "        Dense(64, activation='tanh'),\n",
    "        Dense(64, activation='tanh'),\n",
    "        Dense(64, activation='tanh'),\n",
    "        Dense(64, activation='tanh'),\n",
    "        Dense(10, activation='softmax'),\n",
    "                      ]"
   ]
  },
  {
   "cell_type": "code",
   "execution_count": 29,
   "metadata": {},
   "outputs": [],
   "source": [
    "model3 = Sequential(layers1)\n",
    "model3.compile(\n",
    "  optimizer='adam',\n",
    "  loss='categorical_crossentropy',\n",
    "  metrics=['accuracy'],\n",
    ")"
   ]
  },
  {
   "cell_type": "code",
   "execution_count": 30,
   "metadata": {},
   "outputs": [
    {
     "name": "stdout",
     "output_type": "stream",
     "text": [
      "Model: \"sequential\"\n",
      "_________________________________________________________________\n",
      "Layer (type)                 Output Shape              Param #   \n",
      "=================================================================\n",
      "dense_4 (Dense)              (None, 64)                50240     \n",
      "_________________________________________________________________\n",
      "dense_5 (Dense)              (None, 64)                4160      \n",
      "_________________________________________________________________\n",
      "dense_6 (Dense)              (None, 10)                650       \n",
      "=================================================================\n",
      "Total params: 55,050\n",
      "Trainable params: 55,050\n",
      "Non-trainable params: 0\n",
      "_________________________________________________________________\n"
     ]
    }
   ],
   "source": [
    "model3.summary()"
   ]
  },
  {
   "cell_type": "code",
   "execution_count": 31,
   "metadata": {},
   "outputs": [],
   "source": [
    "model4 = Sequential(layers2)\n",
    "model4.compile(\n",
    "  optimizer='adam',\n",
    "  loss='categorical_crossentropy',\n",
    "  metrics=['accuracy'],\n",
    ")"
   ]
  },
  {
   "cell_type": "code",
   "execution_count": 32,
   "metadata": {
    "scrolled": true
   },
   "outputs": [
    {
     "name": "stdout",
     "output_type": "stream",
     "text": [
      "Model: \"sequential_1\"\n",
      "_________________________________________________________________\n",
      "Layer (type)                 Output Shape              Param #   \n",
      "=================================================================\n",
      "dense_7 (Dense)              (None, 64)                50240     \n",
      "_________________________________________________________________\n",
      "dense_8 (Dense)              (None, 64)                4160      \n",
      "_________________________________________________________________\n",
      "dense_9 (Dense)              (None, 64)                4160      \n",
      "_________________________________________________________________\n",
      "dense_10 (Dense)             (None, 64)                4160      \n",
      "_________________________________________________________________\n",
      "dense_11 (Dense)             (None, 10)                650       \n",
      "=================================================================\n",
      "Total params: 63,370\n",
      "Trainable params: 63,370\n",
      "Non-trainable params: 0\n",
      "_________________________________________________________________\n"
     ]
    }
   ],
   "source": [
    "model4.summary()"
   ]
  },
  {
   "cell_type": "code",
   "execution_count": 33,
   "metadata": {},
   "outputs": [],
   "source": [
    "model5 = Sequential(layers3)\n",
    "model5.compile(\n",
    "  optimizer='adam',\n",
    "  loss='categorical_crossentropy',\n",
    "  metrics=['accuracy'],\n",
    ")"
   ]
  },
  {
   "cell_type": "code",
   "execution_count": 34,
   "metadata": {},
   "outputs": [
    {
     "name": "stdout",
     "output_type": "stream",
     "text": [
      "Model: \"sequential_2\"\n",
      "_________________________________________________________________\n",
      "Layer (type)                 Output Shape              Param #   \n",
      "=================================================================\n",
      "dense_12 (Dense)             (None, 64)                50240     \n",
      "_________________________________________________________________\n",
      "dense_13 (Dense)             (None, 64)                4160      \n",
      "_________________________________________________________________\n",
      "dense_14 (Dense)             (None, 64)                4160      \n",
      "_________________________________________________________________\n",
      "dense_15 (Dense)             (None, 64)                4160      \n",
      "_________________________________________________________________\n",
      "dense_16 (Dense)             (None, 64)                4160      \n",
      "_________________________________________________________________\n",
      "dense_17 (Dense)             (None, 64)                4160      \n",
      "_________________________________________________________________\n",
      "dense_18 (Dense)             (None, 64)                4160      \n",
      "_________________________________________________________________\n",
      "dense_19 (Dense)             (None, 64)                4160      \n",
      "_________________________________________________________________\n",
      "dense_20 (Dense)             (None, 64)                4160      \n",
      "_________________________________________________________________\n",
      "dense_21 (Dense)             (None, 10)                650       \n",
      "=================================================================\n",
      "Total params: 84,170\n",
      "Trainable params: 84,170\n",
      "Non-trainable params: 0\n",
      "_________________________________________________________________\n"
     ]
    }
   ],
   "source": [
    "model5.summary()"
   ]
  },
  {
   "cell_type": "code",
   "execution_count": 42,
   "metadata": {},
   "outputs": [],
   "source": [
    "def hhl(models):\n",
    "    hh = models.fit(\n",
    "      train_images,\n",
    "      to_categorical(train_labels),\n",
    "      epochs=25,\n",
    "      batch_size=32, validation_split=0.2\n",
    "    )\n",
    "\n",
    "    # Evaluate the model.\n",
    "    models.evaluate(\n",
    "      test_images,\n",
    "      to_categorical(test_labels)\n",
    "    )\n",
    "\n",
    "    # Predict on the first 5 test images.\n",
    "    predictions = models.predict(test_images[:5])\n",
    "    \n",
    "    # Print our model's predictions.\n",
    "    print(np.argmax(predictions, axis=1)) \n",
    "\n",
    "    # Check our predictions against the ground truths.\n",
    "    print(test_labels[:5])\n",
    "    \n",
    "    return hh\n"
   ]
  },
  {
   "cell_type": "code",
   "execution_count": 43,
   "metadata": {
    "scrolled": false
   },
   "outputs": [
    {
     "name": "stdout",
     "output_type": "stream",
     "text": [
      "Epoch 1/25\n",
      "1500/1500 [==============================] - 1s 752us/step - loss: 0.2926 - accuracy: 0.8913 - val_loss: 0.3518 - val_accuracy: 0.8752\n",
      "Epoch 2/25\n",
      "1500/1500 [==============================] - 1s 726us/step - loss: 0.2810 - accuracy: 0.8963 - val_loss: 0.3364 - val_accuracy: 0.8830\n",
      "Epoch 3/25\n",
      "1500/1500 [==============================] - 1s 735us/step - loss: 0.2672 - accuracy: 0.9007 - val_loss: 0.3218 - val_accuracy: 0.8862\n",
      "Epoch 4/25\n",
      "1500/1500 [==============================] - 1s 743us/step - loss: 0.2590 - accuracy: 0.9036 - val_loss: 0.3355 - val_accuracy: 0.8800\n",
      "Epoch 5/25\n",
      "1500/1500 [==============================] - 1s 767us/step - loss: 0.2518 - accuracy: 0.9068 - val_loss: 0.3403 - val_accuracy: 0.8794\n",
      "Epoch 6/25\n",
      "1500/1500 [==============================] - 1s 727us/step - loss: 0.2405 - accuracy: 0.9110 - val_loss: 0.3442 - val_accuracy: 0.8782\n",
      "Epoch 7/25\n",
      "1500/1500 [==============================] - 1s 730us/step - loss: 0.2351 - accuracy: 0.9119 - val_loss: 0.3324 - val_accuracy: 0.8840\n",
      "Epoch 8/25\n",
      "1500/1500 [==============================] - 1s 756us/step - loss: 0.2245 - accuracy: 0.9170 - val_loss: 0.3224 - val_accuracy: 0.8858\n",
      "Epoch 9/25\n",
      "1500/1500 [==============================] - 1s 841us/step - loss: 0.2187 - accuracy: 0.9183 - val_loss: 0.3293 - val_accuracy: 0.8861\n",
      "Epoch 10/25\n",
      "1500/1500 [==============================] - 1s 747us/step - loss: 0.2112 - accuracy: 0.9208 - val_loss: 0.3257 - val_accuracy: 0.8894\n",
      "Epoch 11/25\n",
      "1500/1500 [==============================] - 1s 828us/step - loss: 0.2058 - accuracy: 0.9226 - val_loss: 0.3397 - val_accuracy: 0.8829\n",
      "Epoch 12/25\n",
      "1500/1500 [==============================] - 1s 779us/step - loss: 0.2007 - accuracy: 0.9254 - val_loss: 0.3331 - val_accuracy: 0.8831\n",
      "Epoch 13/25\n",
      "1500/1500 [==============================] - 1s 770us/step - loss: 0.1967 - accuracy: 0.9273 - val_loss: 0.3343 - val_accuracy: 0.8871\n",
      "Epoch 14/25\n",
      "1500/1500 [==============================] - 1s 795us/step - loss: 0.1892 - accuracy: 0.9299 - val_loss: 0.3473 - val_accuracy: 0.8820\n",
      "Epoch 15/25\n",
      "1500/1500 [==============================] - 1s 735us/step - loss: 0.1847 - accuracy: 0.9318 - val_loss: 0.3461 - val_accuracy: 0.8832\n",
      "Epoch 16/25\n",
      "1500/1500 [==============================] - 1s 771us/step - loss: 0.1818 - accuracy: 0.9311 - val_loss: 0.3583 - val_accuracy: 0.8808\n",
      "Epoch 17/25\n",
      "1500/1500 [==============================] - 1s 753us/step - loss: 0.1777 - accuracy: 0.9337 - val_loss: 0.3555 - val_accuracy: 0.8824\n",
      "Epoch 18/25\n",
      "1500/1500 [==============================] - 1s 850us/step - loss: 0.1741 - accuracy: 0.9355 - val_loss: 0.3560 - val_accuracy: 0.8832\n",
      "Epoch 19/25\n",
      "1500/1500 [==============================] - 1s 761us/step - loss: 0.1670 - accuracy: 0.9384 - val_loss: 0.3511 - val_accuracy: 0.8852\n",
      "Epoch 20/25\n",
      "1500/1500 [==============================] - 1s 777us/step - loss: 0.1640 - accuracy: 0.9400 - val_loss: 0.3472 - val_accuracy: 0.8864\n",
      "Epoch 21/25\n",
      "1500/1500 [==============================] - 1s 790us/step - loss: 0.1600 - accuracy: 0.9419 - val_loss: 0.3509 - val_accuracy: 0.8859\n",
      "Epoch 22/25\n",
      "1500/1500 [==============================] - 1s 757us/step - loss: 0.1564 - accuracy: 0.9420 - val_loss: 0.3612 - val_accuracy: 0.8859\n",
      "Epoch 23/25\n",
      "1500/1500 [==============================] - 1s 812us/step - loss: 0.1545 - accuracy: 0.9426 - val_loss: 0.3741 - val_accuracy: 0.8800\n",
      "Epoch 24/25\n",
      "1500/1500 [==============================] - 1s 772us/step - loss: 0.1484 - accuracy: 0.9446 - val_loss: 0.3960 - val_accuracy: 0.8757\n",
      "Epoch 25/25\n",
      "1500/1500 [==============================] - 1s 763us/step - loss: 0.1430 - accuracy: 0.9471 - val_loss: 0.3883 - val_accuracy: 0.8777\n",
      "313/313 [==============================] - 0s 815us/step - loss: 0.4076 - accuracy: 0.8788\n",
      "[9 2 1 1 6]\n",
      "[9 2 1 1 6]\n"
     ]
    }
   ],
   "source": [
    "hh_1 = hhl(model3)"
   ]
  },
  {
   "cell_type": "code",
   "execution_count": 44,
   "metadata": {
    "scrolled": false
   },
   "outputs": [
    {
     "name": "stdout",
     "output_type": "stream",
     "text": [
      "Epoch 1/25\n",
      "1500/1500 [==============================] - 1s 915us/step - loss: 0.3069 - accuracy: 0.8873 - val_loss: 0.3410 - val_accuracy: 0.8780\n",
      "Epoch 2/25\n",
      "1500/1500 [==============================] - 1s 791us/step - loss: 0.2905 - accuracy: 0.8912 - val_loss: 0.3640 - val_accuracy: 0.8735\n",
      "Epoch 3/25\n",
      "1500/1500 [==============================] - 1s 846us/step - loss: 0.2790 - accuracy: 0.8946 - val_loss: 0.3478 - val_accuracy: 0.8789\n",
      "Epoch 4/25\n",
      "1500/1500 [==============================] - 1s 849us/step - loss: 0.2705 - accuracy: 0.8989 - val_loss: 0.3421 - val_accuracy: 0.8811\n",
      "Epoch 5/25\n",
      "1500/1500 [==============================] - 1s 894us/step - loss: 0.2617 - accuracy: 0.9014 - val_loss: 0.3288 - val_accuracy: 0.8822\n",
      "Epoch 6/25\n",
      "1500/1500 [==============================] - 1s 862us/step - loss: 0.2493 - accuracy: 0.9077 - val_loss: 0.3447 - val_accuracy: 0.8780\n",
      "Epoch 7/25\n",
      "1500/1500 [==============================] - 1s 841us/step - loss: 0.2462 - accuracy: 0.9075 - val_loss: 0.3484 - val_accuracy: 0.8823\n",
      "Epoch 8/25\n",
      "1500/1500 [==============================] - 1s 861us/step - loss: 0.2388 - accuracy: 0.9113 - val_loss: 0.3352 - val_accuracy: 0.8830\n",
      "Epoch 9/25\n",
      "1500/1500 [==============================] - 1s 847us/step - loss: 0.2315 - accuracy: 0.9119 - val_loss: 0.3439 - val_accuracy: 0.8817\n",
      "Epoch 10/25\n",
      "1500/1500 [==============================] - 1s 889us/step - loss: 0.2247 - accuracy: 0.9158 - val_loss: 0.3549 - val_accuracy: 0.8817\n",
      "Epoch 11/25\n",
      "1500/1500 [==============================] - 1s 868us/step - loss: 0.2178 - accuracy: 0.9193 - val_loss: 0.3529 - val_accuracy: 0.8832\n",
      "Epoch 12/25\n",
      "1500/1500 [==============================] - 1s 902us/step - loss: 0.2149 - accuracy: 0.9198 - val_loss: 0.3524 - val_accuracy: 0.8807\n",
      "Epoch 13/25\n",
      "1500/1500 [==============================] - 1s 884us/step - loss: 0.2064 - accuracy: 0.9239 - val_loss: 0.3517 - val_accuracy: 0.8807\n",
      "Epoch 14/25\n",
      "1500/1500 [==============================] - 1s 933us/step - loss: 0.2024 - accuracy: 0.9229 - val_loss: 0.3548 - val_accuracy: 0.8833\n",
      "Epoch 15/25\n",
      "1500/1500 [==============================] - 1s 851us/step - loss: 0.2018 - accuracy: 0.9245 - val_loss: 0.3416 - val_accuracy: 0.8867\n",
      "Epoch 16/25\n",
      "1500/1500 [==============================] - 1s 924us/step - loss: 0.1944 - accuracy: 0.9274 - val_loss: 0.3661 - val_accuracy: 0.8841\n",
      "Epoch 17/25\n",
      "1500/1500 [==============================] - 1s 959us/step - loss: 0.1906 - accuracy: 0.9297 - val_loss: 0.3697 - val_accuracy: 0.8806\n",
      "Epoch 18/25\n",
      "1500/1500 [==============================] - 1s 940us/step - loss: 0.1839 - accuracy: 0.9310 - val_loss: 0.3555 - val_accuracy: 0.8882\n",
      "Epoch 19/25\n",
      "1500/1500 [==============================] - 1s 938us/step - loss: 0.1810 - accuracy: 0.9325 - val_loss: 0.3750 - val_accuracy: 0.8779\n",
      "Epoch 20/25\n",
      "1500/1500 [==============================] - 1s 911us/step - loss: 0.1813 - accuracy: 0.9327 - val_loss: 0.3671 - val_accuracy: 0.8827\n",
      "Epoch 21/25\n",
      "1500/1500 [==============================] - 1s 993us/step - loss: 0.1699 - accuracy: 0.9365 - val_loss: 0.3911 - val_accuracy: 0.8788\n",
      "Epoch 22/25\n",
      "1500/1500 [==============================] - 1s 932us/step - loss: 0.1697 - accuracy: 0.9372 - val_loss: 0.3852 - val_accuracy: 0.8810\n",
      "Epoch 23/25\n",
      "1500/1500 [==============================] - 1s 984us/step - loss: 0.1659 - accuracy: 0.9381 - val_loss: 0.3990 - val_accuracy: 0.8792\n",
      "Epoch 24/25\n",
      "1500/1500 [==============================] - 1s 959us/step - loss: 0.1627 - accuracy: 0.9395 - val_loss: 0.3733 - val_accuracy: 0.8863\n",
      "Epoch 25/25\n",
      "1500/1500 [==============================] - 1s 875us/step - loss: 0.1611 - accuracy: 0.9394 - val_loss: 0.3738 - val_accuracy: 0.8841\n",
      "313/313 [==============================] - 0s 839us/step - loss: 0.4057 - accuracy: 0.8751\n",
      "[9 2 1 1 6]\n",
      "[9 2 1 1 6]\n"
     ]
    }
   ],
   "source": [
    "hh_2 = hhl(model4)"
   ]
  },
  {
   "cell_type": "code",
   "execution_count": 45,
   "metadata": {},
   "outputs": [
    {
     "name": "stdout",
     "output_type": "stream",
     "text": [
      "Epoch 1/25\n",
      "1500/1500 [==============================] - 2s 1ms/step - loss: 0.3465 - accuracy: 0.8745 - val_loss: 0.4007 - val_accuracy: 0.8608\n",
      "Epoch 2/25\n",
      "1500/1500 [==============================] - 2s 1ms/step - loss: 0.3339 - accuracy: 0.8786 - val_loss: 0.3696 - val_accuracy: 0.8673\n",
      "Epoch 3/25\n",
      "1500/1500 [==============================] - 2s 1ms/step - loss: 0.3226 - accuracy: 0.8824 - val_loss: 0.3856 - val_accuracy: 0.8626\n",
      "Epoch 4/25\n",
      "1500/1500 [==============================] - 2s 1ms/step - loss: 0.3148 - accuracy: 0.8838 - val_loss: 0.3707 - val_accuracy: 0.8687\n",
      "Epoch 5/25\n",
      "1500/1500 [==============================] - 2s 1ms/step - loss: 0.3056 - accuracy: 0.8890 - val_loss: 0.3765 - val_accuracy: 0.8723\n",
      "Epoch 6/25\n",
      "1500/1500 [==============================] - 2s 1ms/step - loss: 0.2978 - accuracy: 0.8914 - val_loss: 0.3593 - val_accuracy: 0.8786\n",
      "Epoch 7/25\n",
      "1500/1500 [==============================] - 2s 1ms/step - loss: 0.2906 - accuracy: 0.8934 - val_loss: 0.3766 - val_accuracy: 0.8734\n",
      "Epoch 8/25\n",
      "1500/1500 [==============================] - 2s 1ms/step - loss: 0.2840 - accuracy: 0.8971 - val_loss: 0.4041 - val_accuracy: 0.8652\n",
      "Epoch 9/25\n",
      "1500/1500 [==============================] - 3s 2ms/step - loss: 0.2864 - accuracy: 0.8959 - val_loss: 0.3662 - val_accuracy: 0.8727\n",
      "Epoch 10/25\n",
      "1500/1500 [==============================] - 2s 2ms/step - loss: 0.2766 - accuracy: 0.8991 - val_loss: 0.3602 - val_accuracy: 0.8807\n",
      "Epoch 11/25\n",
      "1500/1500 [==============================] - 2s 1ms/step - loss: 0.2748 - accuracy: 0.9008 - val_loss: 0.3911 - val_accuracy: 0.8683\n",
      "Epoch 12/25\n",
      "1500/1500 [==============================] - 2s 1ms/step - loss: 0.2659 - accuracy: 0.9021 - val_loss: 0.3912 - val_accuracy: 0.8687\n",
      "Epoch 13/25\n",
      "1500/1500 [==============================] - 2s 1ms/step - loss: 0.2609 - accuracy: 0.9041 - val_loss: 0.3599 - val_accuracy: 0.8757\n",
      "Epoch 14/25\n",
      "1500/1500 [==============================] - 2s 1ms/step - loss: 0.2594 - accuracy: 0.9042 - val_loss: 0.3735 - val_accuracy: 0.8747\n",
      "Epoch 15/25\n",
      "1500/1500 [==============================] - 2s 1ms/step - loss: 0.2546 - accuracy: 0.9072 - val_loss: 0.4023 - val_accuracy: 0.8666\n",
      "Epoch 16/25\n",
      "1500/1500 [==============================] - 2s 1ms/step - loss: 0.2562 - accuracy: 0.9062 - val_loss: 0.3838 - val_accuracy: 0.8724\n",
      "Epoch 17/25\n",
      "1500/1500 [==============================] - 2s 1ms/step - loss: 0.2452 - accuracy: 0.9080 - val_loss: 0.3673 - val_accuracy: 0.8758\n",
      "Epoch 18/25\n",
      "1500/1500 [==============================] - 2s 1ms/step - loss: 0.2439 - accuracy: 0.9109 - val_loss: 0.3857 - val_accuracy: 0.8698\n",
      "Epoch 19/25\n",
      "1500/1500 [==============================] - 2s 2ms/step - loss: 0.2461 - accuracy: 0.9106 - val_loss: 0.3978 - val_accuracy: 0.8698\n",
      "Epoch 20/25\n",
      "1500/1500 [==============================] - 2s 1ms/step - loss: 0.2422 - accuracy: 0.9120 - val_loss: 0.3764 - val_accuracy: 0.8715\n",
      "Epoch 21/25\n",
      "1500/1500 [==============================] - 2s 1ms/step - loss: 0.2336 - accuracy: 0.9142 - val_loss: 0.3590 - val_accuracy: 0.8808\n",
      "Epoch 22/25\n",
      "1500/1500 [==============================] - 2s 1ms/step - loss: 0.2390 - accuracy: 0.9121 - val_loss: 0.3701 - val_accuracy: 0.8830\n",
      "Epoch 23/25\n",
      "1500/1500 [==============================] - 2s 2ms/step - loss: 0.2292 - accuracy: 0.9159 - val_loss: 0.3747 - val_accuracy: 0.8733\n",
      "Epoch 24/25\n",
      "1500/1500 [==============================] - 3s 2ms/step - loss: 0.2278 - accuracy: 0.9160 - val_loss: 0.3582 - val_accuracy: 0.8840\n",
      "Epoch 25/25\n",
      "1500/1500 [==============================] - 2s 1ms/step - loss: 0.2312 - accuracy: 0.9155 - val_loss: 0.3689 - val_accuracy: 0.8759\n",
      "313/313 [==============================] - 0s 991us/step - loss: 0.4051 - accuracy: 0.8656\n",
      "[9 2 1 1 6]\n",
      "[9 2 1 1 6]\n"
     ]
    }
   ],
   "source": [
    "hh_3 = hhl(model5)"
   ]
  },
  {
   "cell_type": "code",
   "execution_count": 41,
   "metadata": {
    "scrolled": false
   },
   "outputs": [
    {
     "data": {
      "image/png": "[encoded data removed]",
      "text/plain": [
       "<Figure size 1152x504 with 1 Axes>"
      ]
     },
     "metadata": {
      "needs_background": "light"
     },
     "output_type": "display_data"
    }
   ],
   "source": [
    "# создаем модель model\n",
    "model = Sequential([\n",
    "                      Dense(64, activation='relu', input_shape=(784,)),\n",
    "                      Dense(64, activation='tanh'),\n",
    "                      Dense(10, activation='softmax'),\n",
    "                      ])\n",
    "# сохраняем ее веса (это начальная точка) model.save_weights('model.h5')\n",
    "model.save_weights('model.h5')\n",
    "\n",
    "plt.figure(figsize=(16,7))\n",
    "\n",
    "# число рабочих эпох\n",
    "epochs = 15\n",
    "# вектор для выводв результатов\n",
    "epoch = np.arange(epochs+1)\n",
    "\n",
    "# будем изменять оптимизаторы\n",
    "for i_optim in [keras.optimizers.RMSprop(),keras.optimizers.SGD(),keras.optimizers.Adam(),keras.optimizers.Nadam()]:\n",
    "  # создаем рабочую модель modeli куда будем загружать эти вес (она должна быть идентичной структуры)\n",
    "  modeli = Sequential([\n",
    "                      Dense(64, activation='relu', input_shape=(784,)),\n",
    "                      Dense(64, activation='tanh'),\n",
    "                      Dense(10, activation='softmax'),\n",
    "                      ])\n",
    "  # загружаем веса modeli.load_weights('model.h5')\n",
    "  modeli.load_weights('model.h5')\n",
    "  # компилируем modeli с одним из оптимизаторов\n",
    "  modeli.compile(\n",
    "      optimizer=i_optim,\n",
    "      loss='categorical_crossentropy',\n",
    "      metrics=['accuracy'],\n",
    "      )\n",
    "  # вычисляем ошибку для modeli без обучения\n",
    "  hh0_tr = modeli.evaluate(  train_images[:48000,:], to_categorical(train_labels[:48000]),verbose = 0)\n",
    "  hh0_val = modeli.evaluate(  train_images[48000:,:], to_categorical(train_labels[48000:]),verbose = 0)\n",
    "  # проводим обучение модели \n",
    "  hh = modeli.fit(\n",
    "  train_images,\n",
    "  to_categorical(train_labels),\n",
    "  epochs=epochs,\n",
    "  batch_size=32, validation_split=0.2, verbose = 0\n",
    "  )\n",
    "  # картинки\n",
    "  plt.plot(epoch,np.log([hh0_tr[0]]+hh.history['loss']),'-',label = modeli.optimizer.get_config()['name']+' train')\n",
    "  plt.plot(epoch,np.log([hh0_val[0]]+hh.history['val_loss']),'--',label = modeli.optimizer.get_config()['name']+' val')\n",
    "plt.legend()\n",
    "plt.grid('On')\n",
    "\n",
    "plt.title('нейросети от оптимизатора log(loss)')\n",
    "plt.xlabel('epoch')\n",
    "plt.ylabel('log(loss)')\n",
    "plt.show()"
   ]
  },
  {
   "cell_type": "markdown",
   "metadata": {},
   "source": [
    "Лучшим вариантом является SGD, так как наименьший разрыв между accuracy и val_accuracy."
   ]
  },
  {
   "cell_type": "code",
   "execution_count": 71,
   "metadata": {},
   "outputs": [],
   "source": [
    "hh_t = {}\n",
    "hh_a = []\n",
    "hh_v = []\n",
    "hh_list = [hh, hh2, hh_1, hh_2, hh_3]\n",
    "for i in hh_list:\n",
    "    hh_a.append(i.history['accuracy'][-1])\n",
    "    hh_v.append(i.history['val_accuracy'][-1])\n",
    "    \n",
    "    \n",
    "hh_t['accuracy'] = hh_a\n",
    "hh_t['val_accuracy'] = hh_v"
   ]
  },
  {
   "cell_type": "code",
   "execution_count": 72,
   "metadata": {
    "scrolled": true
   },
   "outputs": [
    {
     "data": {
      "text/plain": [
       "{'accuracy': [0.8886041641235352,\n",
       "  0.8813750147819519,\n",
       "  0.9471250176429749,\n",
       "  0.9393541812896729,\n",
       "  0.9155416488647461],\n",
       " 'val_accuracy': [0.8776666522026062,\n",
       "  0.8733333349227905,\n",
       "  0.8776666522026062,\n",
       "  0.8840833306312561,\n",
       "  0.8759166598320007]}"
      ]
     },
     "execution_count": 72,
     "metadata": {},
     "output_type": "execute_result"
    }
   ],
   "source": [
    "hh_t"
   ]
  },
  {
   "cell_type": "code",
   "execution_count": 61,
   "metadata": {
    "scrolled": false
   },
   "outputs": [
    {
     "data": {
      "text/plain": [
       "{'accuracy': [0.9236249923706055,\n",
       "  0.8813750147819519,\n",
       "  0.9471250176429749,\n",
       "  0.9393541812896729,\n",
       "  0.9155416488647461],\n",
       " 'val_accuracy': [0.8879166841506958,\n",
       "  0.8733333349227905,\n",
       "  0.8776666522026062,\n",
       "  0.8840833306312561,\n",
       "  0.8759166598320007]}"
      ]
     },
     "execution_count": 61,
     "metadata": {},
     "output_type": "execute_result"
    }
   ],
   "source": [
    "dd"
   ]
  },
  {
   "cell_type": "code",
   "execution_count": 102,
   "metadata": {},
   "outputs": [],
   "source": [
    "hh_d = {'layers':[], 'neurons': [], 'accuracy': [], 'val_accuracy': []}\n",
    "l = [2, 2, 3, 5, 10]\n",
    "n = [128, 64, 64, 64, 64]"
   ]
  },
  {
   "cell_type": "code",
   "execution_count": 103,
   "metadata": {},
   "outputs": [],
   "source": [
    "\n",
    "for i in range(5):\n",
    "    hh_d['layers'].append(l[i])\n",
    "    hh_d['neurons'].append(n[i])\n",
    "    hh_d['accuracy'].append(hh_list[i].history['accuracy'][-1])\n",
    "    hh_d['val_accuracy'].append(hh_list[i].history['val_accuracy'][-1])"
   ]
  },
  {
   "cell_type": "code",
   "execution_count": 106,
   "metadata": {},
   "outputs": [
    {
     "data": {
      "text/html": [
       "<div>\n",
       "<style scoped>\n",
       "    .dataframe tbody tr th:only-of-type {\n",
       "        vertical-align: middle;\n",
       "    }\n",
       "\n",
       "    .dataframe tbody tr th {\n",
       "        vertical-align: top;\n",
       "    }\n",
       "\n",
       "    .dataframe thead th {\n",
       "        text-align: right;\n",
       "    }\n",
       "</style>\n",
       "<table border=\"1\" class=\"dataframe\">\n",
       "  <thead>\n",
       "    <tr style=\"text-align: right;\">\n",
       "      <th></th>\n",
       "      <th>layers</th>\n",
       "      <th>neurons</th>\n",
       "      <th>accuracy</th>\n",
       "      <th>val_accuracy</th>\n",
       "    </tr>\n",
       "  </thead>\n",
       "  <tbody>\n",
       "    <tr>\n",
       "      <th>0</th>\n",
       "      <td>2</td>\n",
       "      <td>128</td>\n",
       "      <td>0.888604</td>\n",
       "      <td>0.877667</td>\n",
       "    </tr>\n",
       "    <tr>\n",
       "      <th>1</th>\n",
       "      <td>2</td>\n",
       "      <td>64</td>\n",
       "      <td>0.881375</td>\n",
       "      <td>0.873333</td>\n",
       "    </tr>\n",
       "    <tr>\n",
       "      <th>2</th>\n",
       "      <td>3</td>\n",
       "      <td>64</td>\n",
       "      <td>0.947125</td>\n",
       "      <td>0.877667</td>\n",
       "    </tr>\n",
       "    <tr>\n",
       "      <th>3</th>\n",
       "      <td>5</td>\n",
       "      <td>64</td>\n",
       "      <td>0.939354</td>\n",
       "      <td>0.884083</td>\n",
       "    </tr>\n",
       "    <tr>\n",
       "      <th>4</th>\n",
       "      <td>10</td>\n",
       "      <td>64</td>\n",
       "      <td>0.915542</td>\n",
       "      <td>0.875917</td>\n",
       "    </tr>\n",
       "  </tbody>\n",
       "</table>\n",
       "</div>"
      ],
      "text/plain": [
       "   layers  neurons  accuracy  val_accuracy\n",
       "0       2      128  0.888604      0.877667\n",
       "1       2       64  0.881375      0.873333\n",
       "2       3       64  0.947125      0.877667\n",
       "3       5       64  0.939354      0.884083\n",
       "4      10       64  0.915542      0.875917"
      ]
     },
     "execution_count": 106,
     "metadata": {},
     "output_type": "execute_result"
    }
   ],
   "source": [
    "df = pd.DataFrame(hh_d)\n",
    "df"
   ]
  },
  {
   "cell_type": "code",
   "execution_count": null,
   "metadata": {},
   "outputs": [],
   "source": []
  },
  {
   "cell_type": "markdown",
   "metadata": {},
   "source": [
    "Увеличение количества слоев увеличивает разрыв между accuracy и val_accuracy. Это похоже на переобучение сети. В то время как увеличение количества нейронов не приводит к переобучению."
   ]
  },
  {
   "cell_type": "code",
   "execution_count": 109,
   "metadata": {},
   "outputs": [
    {
     "data": {
      "text/plain": [
       "{'name': 'Adam',\n",
       " 'learning_rate': 0.001,\n",
       " 'decay': 0.0,\n",
       " 'beta_1': 0.9,\n",
       " 'beta_2': 0.999,\n",
       " 'epsilon': 1e-07,\n",
       " 'amsgrad': False}"
      ]
     },
     "execution_count": 109,
     "metadata": {},
     "output_type": "execute_result"
    }
   ],
   "source": [
    " model1.optimizer.get_config()"
   ]
  },
  {
   "cell_type": "code",
   "execution_count": 110,
   "metadata": {},
   "outputs": [
    {
     "data": {
      "image/png": "[encoded data removed]",
      "text/plain": [
       "<Figure size 1080x360 with 5 Axes>"
      ]
     },
     "metadata": {
      "needs_background": "light"
     },
     "output_type": "display_data"
    }
   ],
   "source": [
    "N = 5\n",
    "y_pred = model1.predict(test_images[:N,:])\n",
    "y_pred_class = np.argmax(y_pred,axis=1)\n",
    "plt.figure(figsize =(3*N,5))\n",
    "for i in range(N):\n",
    "  plt.subplot(1,N,i+1)\n",
    "  plt.imshow(test_images[i,:].reshape(28,28))\n",
    "  plt.xlabel(str(y_pred_class[i]))\n",
    "plt.show()  "
   ]
  }
 ],
 "metadata": {
  "kernelspec": {
   "display_name": "Python 3",
   "language": "python",
   "name": "python3"
  },
  "language_info": {
   "codemirror_mode": {
    "name": "ipython",
    "version": 3
   },
   "file_extension": ".py",
   "mimetype": "text/x-python",
   "name": "python",
   "nbconvert_exporter": "python",
   "pygments_lexer": "ipython3",
   "version": "3.7.6"
  }
 },
 "nbformat": 4,
 "nbformat_minor": 4
}
