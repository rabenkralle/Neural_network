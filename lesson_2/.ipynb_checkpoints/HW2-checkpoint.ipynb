{
 "cells": [
  {
   "cell_type": "markdown",
   "metadata": {
    "id": "NRSQbmXD9U98"
   },
   "source": [
    "## Практическое задание\n",
    "\n",
    "Используем набор примеров fashion-MNIST\n",
    "\n",
    "1.  Опишите - какой результата получен в нейросети в зависимости от:\n",
    "  -  числа нейронов в слое(для 2-хслойной сети), \n",
    "  - числа слоев (2, 3, 5, 10) при близких размерах сети (близкое число тренируемых парметров).\n",
    "  - фиксируйте для тренировочного и тестового набора метрики accuracy.\n",
    "2.  Проверьте работу разных оптимизаторов (SGD, Adam, RMSProp) для одной из моделей п.1.Фиксируйте для тренировочного и тестового набора метрики accuracy.\n",
    "\n",
    "3. Сделайте вывод - что помогло вам улучшить качество классификации в нейросети на тестовом наборе? \n",
    "\n",
    "4. Для одного варианта сетей сформируйте матрицу ошибок по классам. Оцените качество модели по каждому классу отдельно (полнота , точность)"
   ]
  },
  {
   "cell_type": "code",
   "execution_count": 1,
   "metadata": {},
   "outputs": [],
   "source": [
    "import numpy as np\n",
    "import keras\n",
    "from keras.models import Sequential\n",
    "from keras.layers import Dense\n",
    "from keras.utils import to_categorical\n",
    "from keras.datasets import fashion_mnist\n",
    "\n",
    "import matplotlib.pyplot as plt\n",
    "import pandas as pd"
   ]
  },
  {
   "cell_type": "code",
   "execution_count": 2,
   "metadata": {
    "id": "cnrrzpi6NBLV",
    "scrolled": true
   },
   "outputs": [
    {
     "name": "stdout",
     "output_type": "stream",
     "text": [
      "Downloading data from https://storage.googleapis.com/tensorflow/tf-keras-datasets/train-labels-idx1-ubyte.gz\n",
      "32768/29515 [=================================] - 0s 1us/step\n",
      "Downloading data from https://storage.googleapis.com/tensorflow/tf-keras-datasets/train-images-idx3-ubyte.gz\n",
      "26427392/26421880 [==============================] - 6s 0us/step\n",
      "Downloading data from https://storage.googleapis.com/tensorflow/tf-keras-datasets/t10k-labels-idx1-ubyte.gz\n",
      "8192/5148 [===============================================] - 0s 0us/step\n",
      "Downloading data from https://storage.googleapis.com/tensorflow/tf-keras-datasets/t10k-images-idx3-ubyte.gz\n",
      "4423680/4422102 [==============================] - 1s 0us/step\n"
     ]
    }
   ],
   "source": [
    "(train_images,train_labels),(test_images,test_labels)=fashion_mnist.load_data()"
   ]
  },
  {
   "cell_type": "code",
   "execution_count": 3,
   "metadata": {
    "colab": {
     "base_uri": "https://localhost:8080/",
     "height": 265
    },
    "id": "HgkWr0rjE47r",
    "outputId": "6362ec40-11f9-47ac-856c-b9feaf9f94a4",
    "scrolled": false
   },
   "outputs": [
    {
     "data": {
      "image/png": "[encoded data removed]",
      "text/plain": [
       "<Figure size 432x288 with 1 Axes>"
      ]
     },
     "metadata": {
      "needs_background": "light"
     },
     "output_type": "display_data"
    }
   ],
   "source": [
    "plt.imshow(train_images[20,:,:])\n",
    "plt.show()"
   ]
  },
  {
   "cell_type": "code",
   "execution_count": 4,
   "metadata": {},
   "outputs": [
    {
     "data": {
      "text/plain": [
       "(60000, 28, 28)"
      ]
     },
     "execution_count": 4,
     "metadata": {},
     "output_type": "execute_result"
    }
   ],
   "source": [
    "train_images.shape"
   ]
  },
  {
   "cell_type": "code",
   "execution_count": 5,
   "metadata": {},
   "outputs": [],
   "source": [
    "# Normalize the images.\n",
    "train_images = (train_images / 255) - 0.5\n",
    "test_images = (test_images / 255) - 0.5"
   ]
  },
  {
   "cell_type": "code",
   "execution_count": 6,
   "metadata": {},
   "outputs": [
    {
     "name": "stdout",
     "output_type": "stream",
     "text": [
      "(60000, 28, 28)\n",
      "(10000, 28, 28)\n"
     ]
    }
   ],
   "source": [
    "print(train_images.shape) # (60000, 28, 28)\n",
    "print(test_images.shape)  # (10000, 28, 28)"
   ]
  },
  {
   "cell_type": "code",
   "execution_count": 7,
   "metadata": {},
   "outputs": [
    {
     "name": "stdout",
     "output_type": "stream",
     "text": [
      "(60000, 784)\n",
      "(10000, 784)\n"
     ]
    }
   ],
   "source": [
    "# Flatten the images.\n",
    "train_images = train_images.reshape((-1, train_images.shape[1] * train_images.shape[2]))\n",
    "test_images = test_images.reshape((-1, test_images.shape[1] * test_images.shape[2]))\n",
    "\n",
    "print(train_images.shape) # (60000, 784)\n",
    "print(test_images.shape)  # (10000, 784)"
   ]
  },
  {
   "cell_type": "code",
   "execution_count": 8,
   "metadata": {},
   "outputs": [
    {
     "data": {
      "text/plain": [
       "array([0, 1, 2, 3, 4, 5, 6, 7, 8, 9], dtype=uint8)"
      ]
     },
     "execution_count": 8,
     "metadata": {},
     "output_type": "execute_result"
    }
   ],
   "source": [
    "np.unique(train_labels)"
   ]
  },
  {
   "cell_type": "code",
   "execution_count": 9,
   "metadata": {},
   "outputs": [],
   "source": [
    "model1 = Sequential(name='my_model1')\n",
    "model1.add(Dense(128, activation='relu', input_shape=(784,)))\n",
    "\n",
    "model1.add(Dense(10, activation='softmax'))"
   ]
  },
  {
   "cell_type": "code",
   "execution_count": 10,
   "metadata": {},
   "outputs": [],
   "source": [
    "model1.compile(\n",
    "  optimizer='adam',\n",
    "  loss='categorical_crossentropy',\n",
    "  metrics=['accuracy'],\n",
    ")"
   ]
  },
  {
   "cell_type": "code",
   "execution_count": 11,
   "metadata": {},
   "outputs": [
    {
     "name": "stdout",
     "output_type": "stream",
     "text": [
      "Model: \"my_model1\"\n",
      "_________________________________________________________________\n",
      "Layer (type)                 Output Shape              Param #   \n",
      "=================================================================\n",
      "dense (Dense)                (None, 128)               100480    \n",
      "_________________________________________________________________\n",
      "dense_1 (Dense)              (None, 10)                1290      \n",
      "=================================================================\n",
      "Total params: 101,770\n",
      "Trainable params: 101,770\n",
      "Non-trainable params: 0\n",
      "_________________________________________________________________\n"
     ]
    }
   ],
   "source": [
    "model1.summary()"
   ]
  },
  {
   "cell_type": "code",
   "execution_count": 12,
   "metadata": {},
   "outputs": [
    {
     "name": "stdout",
     "output_type": "stream",
     "text": [
      "Epoch 1/5\n",
      "1500/1500 [==============================] - 4s 2ms/step - loss: 0.4985 - accuracy: 0.8205 - val_loss: 0.4282 - val_accuracy: 0.8443\n",
      "Epoch 2/5\n",
      "1500/1500 [==============================] - 4s 3ms/step - loss: 0.3815 - accuracy: 0.8610 - val_loss: 0.4029 - val_accuracy: 0.8518\n",
      "Epoch 3/5\n",
      "1500/1500 [==============================] - 4s 2ms/step - loss: 0.3438 - accuracy: 0.8749 - val_loss: 0.3505 - val_accuracy: 0.8727\n",
      "Epoch 4/5\n",
      "1500/1500 [==============================] - 4s 2ms/step - loss: 0.3194 - accuracy: 0.8819 - val_loss: 0.3619 - val_accuracy: 0.8683\n",
      "Epoch 5/5\n",
      "1500/1500 [==============================] - 4s 3ms/step - loss: 0.2975 - accuracy: 0.8907 - val_loss: 0.3329 - val_accuracy: 0.8777\n",
      "313/313 [==============================] - 1s 2ms/step - loss: 0.3628 - accuracy: 0.8669\n",
      "[9 2 1 1 6]\n",
      "[9 2 1 1 6]\n"
     ]
    }
   ],
   "source": [
    "\n",
    "# Train the model.\n",
    "hh = model1.fit(\n",
    "  train_images,\n",
    "  to_categorical(train_labels),\n",
    "  epochs=5,\n",
    "  batch_size=32, validation_split=0.2\n",
    ")\n",
    "\n",
    "# Evaluate the model.\n",
    "model1.evaluate(\n",
    "  test_images,\n",
    "  to_categorical(test_labels)\n",
    ")\n",
    "\n",
    "# Predict on the first 5 test images.\n",
    "predictions = model1.predict(test_images[:5])\n",
    "\n",
    "# Print our model's predictions.\n",
    "print(np.argmax(predictions, axis=1)) \n",
    "\n",
    "# Check our predictions against the ground truths.\n",
    "print(test_labels[:5]) "
   ]
  },
  {
   "cell_type": "code",
   "execution_count": 13,
   "metadata": {
    "scrolled": true
   },
   "outputs": [
    {
     "data": {
      "text/plain": [
       "{'loss': [0.4985484480857849,\n",
       "  0.3814648389816284,\n",
       "  0.3437609374523163,\n",
       "  0.3194243907928467,\n",
       "  0.2974560856819153],\n",
       " 'accuracy': [0.8205416798591614,\n",
       "  0.8610416650772095,\n",
       "  0.874875009059906,\n",
       "  0.8818958401679993,\n",
       "  0.890749990940094],\n",
       " 'val_loss': [0.42819783091545105,\n",
       "  0.402940958738327,\n",
       "  0.35049447417259216,\n",
       "  0.36193689703941345,\n",
       "  0.33288031816482544],\n",
       " 'val_accuracy': [0.8443333506584167,\n",
       "  0.8517500162124634,\n",
       "  0.8727499842643738,\n",
       "  0.8682500123977661,\n",
       "  0.8776666522026062]}"
      ]
     },
     "execution_count": 13,
     "metadata": {},
     "output_type": "execute_result"
    }
   ],
   "source": [
    "hh.history"
   ]
  },
  {
   "cell_type": "code",
   "execution_count": 14,
   "metadata": {},
   "outputs": [],
   "source": [
    "model2 = Sequential(name='my_model2')\n",
    "model2.add(Dense(64, activation='relu', input_shape=(784,)))\n",
    "\n",
    "model2.add(Dense(10, activation='softmax'))"
   ]
  },
  {
   "cell_type": "code",
   "execution_count": 15,
   "metadata": {},
   "outputs": [],
   "source": [
    "model2.compile(\n",
    "  optimizer='adam',\n",
    "  loss='categorical_crossentropy',\n",
    "  metrics=['accuracy'],\n",
    ")"
   ]
  },
  {
   "cell_type": "code",
   "execution_count": 16,
   "metadata": {},
   "outputs": [
    {
     "name": "stdout",
     "output_type": "stream",
     "text": [
      "Model: \"my_model2\"\n",
      "_________________________________________________________________\n",
      "Layer (type)                 Output Shape              Param #   \n",
      "=================================================================\n",
      "dense_2 (Dense)              (None, 64)                50240     \n",
      "_________________________________________________________________\n",
      "dense_3 (Dense)              (None, 10)                650       \n",
      "=================================================================\n",
      "Total params: 50,890\n",
      "Trainable params: 50,890\n",
      "Non-trainable params: 0\n",
      "_________________________________________________________________\n"
     ]
    }
   ],
   "source": [
    "model2.summary()"
   ]
  },
  {
   "cell_type": "code",
   "execution_count": 17,
   "metadata": {},
   "outputs": [
    {
     "name": "stdout",
     "output_type": "stream",
     "text": [
      "Epoch 1/5\n",
      "1500/1500 [==============================] - 4s 3ms/step - loss: 0.5144 - accuracy: 0.8177 - val_loss: 0.4237 - val_accuracy: 0.8481\n",
      "Epoch 2/5\n",
      "1500/1500 [==============================] - 3s 2ms/step - loss: 0.3977 - accuracy: 0.8561 - val_loss: 0.3967 - val_accuracy: 0.8583\n",
      "Epoch 3/5\n",
      "1500/1500 [==============================] - 4s 2ms/step - loss: 0.3604 - accuracy: 0.8688 - val_loss: 0.3826 - val_accuracy: 0.8623\n",
      "Epoch 4/5\n",
      "1500/1500 [==============================] - 3s 2ms/step - loss: 0.3380 - accuracy: 0.8770 - val_loss: 0.3570 - val_accuracy: 0.8720\n",
      "Epoch 5/5\n",
      "1500/1500 [==============================] - 3s 2ms/step - loss: 0.3188 - accuracy: 0.8818 - val_loss: 0.3409 - val_accuracy: 0.8767\n",
      "313/313 [==============================] - 1s 2ms/step - loss: 0.3692 - accuracy: 0.8689\n",
      "[9 2 1 1 6]\n",
      "[9 2 1 1 6]\n"
     ]
    }
   ],
   "source": [
    "\n",
    "# Train the model.\n",
    "hh2 = model2.fit(\n",
    "  train_images,\n",
    "  to_categorical(train_labels),\n",
    "  epochs=5,\n",
    "  batch_size=32, validation_split=0.2\n",
    ")\n",
    "\n",
    "# Evaluate the model.\n",
    "model2.evaluate(\n",
    "  test_images,\n",
    "  to_categorical(test_labels)\n",
    ")\n",
    "\n",
    "# Predict on the first 5 test images.\n",
    "predictions = model2.predict(test_images[:5])\n",
    "\n",
    "# Print our model's predictions.\n",
    "print(np.argmax(predictions, axis=1)) \n",
    "\n",
    "# Check our predictions against the ground truths.\n",
    "print(test_labels[:5]) "
   ]
  },
  {
   "cell_type": "code",
   "execution_count": 18,
   "metadata": {},
   "outputs": [],
   "source": [
    "layers1 = [\n",
    "        Dense(64, activation='relu', input_shape=(784,)),\n",
    "        Dense(64, activation='tanh'),\n",
    "        Dense(10, activation='softmax'),\n",
    "                      ]\n",
    "layers2 = [\n",
    "        Dense(64, activation='relu', input_shape=(784,)),\n",
    "        Dense(64, activation='tanh'),\n",
    "        Dense(64, activation='tanh'),\n",
    "        Dense(64, activation='tanh'),\n",
    "        Dense(10, activation='softmax'),\n",
    "                      ]\n",
    "layers3 = [\n",
    "        Dense(64, activation='relu', input_shape=(784,)),\n",
    "        Dense(64, activation='tanh'),\n",
    "        Dense(64, activation='tanh'),\n",
    "        Dense(64, activation='tanh'),\n",
    "        Dense(64, activation='tanh'),\n",
    "        Dense(64, activation='tanh'),\n",
    "        Dense(64, activation='tanh'),\n",
    "        Dense(64, activation='tanh'),\n",
    "        Dense(64, activation='tanh'),\n",
    "        Dense(10, activation='softmax'),\n",
    "                      ]"
   ]
  },
  {
   "cell_type": "code",
   "execution_count": 19,
   "metadata": {},
   "outputs": [],
   "source": [
    "model3 = Sequential(layers1)\n",
    "model3.compile(\n",
    "  optimizer='adam',\n",
    "  loss='categorical_crossentropy',\n",
    "  metrics=['accuracy'],\n",
    ")"
   ]
  },
  {
   "cell_type": "code",
   "execution_count": 20,
   "metadata": {},
   "outputs": [
    {
     "name": "stdout",
     "output_type": "stream",
     "text": [
      "Model: \"sequential\"\n",
      "_________________________________________________________________\n",
      "Layer (type)                 Output Shape              Param #   \n",
      "=================================================================\n",
      "dense_4 (Dense)              (None, 64)                50240     \n",
      "_________________________________________________________________\n",
      "dense_5 (Dense)              (None, 64)                4160      \n",
      "_________________________________________________________________\n",
      "dense_6 (Dense)              (None, 10)                650       \n",
      "=================================================================\n",
      "Total params: 55,050\n",
      "Trainable params: 55,050\n",
      "Non-trainable params: 0\n",
      "_________________________________________________________________\n"
     ]
    }
   ],
   "source": [
    "model3.summary()"
   ]
  },
  {
   "cell_type": "code",
   "execution_count": 21,
   "metadata": {},
   "outputs": [],
   "source": [
    "model4 = Sequential(layers2)\n",
    "model4.compile(\n",
    "  optimizer='adam',\n",
    "  loss='categorical_crossentropy',\n",
    "  metrics=['accuracy'],\n",
    ")"
   ]
  },
  {
   "cell_type": "code",
   "execution_count": 22,
   "metadata": {
    "scrolled": true
   },
   "outputs": [
    {
     "name": "stdout",
     "output_type": "stream",
     "text": [
      "Model: \"sequential_1\"\n",
      "_________________________________________________________________\n",
      "Layer (type)                 Output Shape              Param #   \n",
      "=================================================================\n",
      "dense_7 (Dense)              (None, 64)                50240     \n",
      "_________________________________________________________________\n",
      "dense_8 (Dense)              (None, 64)                4160      \n",
      "_________________________________________________________________\n",
      "dense_9 (Dense)              (None, 64)                4160      \n",
      "_________________________________________________________________\n",
      "dense_10 (Dense)             (None, 64)                4160      \n",
      "_________________________________________________________________\n",
      "dense_11 (Dense)             (None, 10)                650       \n",
      "=================================================================\n",
      "Total params: 63,370\n",
      "Trainable params: 63,370\n",
      "Non-trainable params: 0\n",
      "_________________________________________________________________\n"
     ]
    }
   ],
   "source": [
    "model4.summary()"
   ]
  },
  {
   "cell_type": "code",
   "execution_count": 23,
   "metadata": {},
   "outputs": [],
   "source": [
    "model5 = Sequential(layers3)\n",
    "model5.compile(\n",
    "  optimizer='adam',\n",
    "  loss='categorical_crossentropy',\n",
    "  metrics=['accuracy'],\n",
    ")"
   ]
  },
  {
   "cell_type": "code",
   "execution_count": 24,
   "metadata": {},
   "outputs": [
    {
     "name": "stdout",
     "output_type": "stream",
     "text": [
      "Model: \"sequential_2\"\n",
      "_________________________________________________________________\n",
      "Layer (type)                 Output Shape              Param #   \n",
      "=================================================================\n",
      "dense_12 (Dense)             (None, 64)                50240     \n",
      "_________________________________________________________________\n",
      "dense_13 (Dense)             (None, 64)                4160      \n",
      "_________________________________________________________________\n",
      "dense_14 (Dense)             (None, 64)                4160      \n",
      "_________________________________________________________________\n",
      "dense_15 (Dense)             (None, 64)                4160      \n",
      "_________________________________________________________________\n",
      "dense_16 (Dense)             (None, 64)                4160      \n",
      "_________________________________________________________________\n",
      "dense_17 (Dense)             (None, 64)                4160      \n",
      "_________________________________________________________________\n",
      "dense_18 (Dense)             (None, 64)                4160      \n",
      "_________________________________________________________________\n",
      "dense_19 (Dense)             (None, 64)                4160      \n",
      "_________________________________________________________________\n",
      "dense_20 (Dense)             (None, 64)                4160      \n",
      "_________________________________________________________________\n",
      "dense_21 (Dense)             (None, 10)                650       \n",
      "=================================================================\n",
      "Total params: 84,170\n",
      "Trainable params: 84,170\n",
      "Non-trainable params: 0\n",
      "_________________________________________________________________\n"
     ]
    }
   ],
   "source": [
    "model5.summary()"
   ]
  },
  {
   "cell_type": "code",
   "execution_count": 25,
   "metadata": {},
   "outputs": [],
   "source": [
    "def hhl(models):\n",
    "    hh = models.fit(\n",
    "      train_images,\n",
    "      to_categorical(train_labels),\n",
    "      epochs=25,\n",
    "      batch_size=32, validation_split=0.2\n",
    "    )\n",
    "\n",
    "    # Evaluate the model.\n",
    "    models.evaluate(\n",
    "      test_images,\n",
    "      to_categorical(test_labels)\n",
    "    )\n",
    "\n",
    "    # Predict on the first 5 test images.\n",
    "    predictions = models.predict(test_images[:5])\n",
    "    \n",
    "    # Print our model's predictions.\n",
    "    print(np.argmax(predictions, axis=1)) \n",
    "\n",
    "    # Check our predictions against the ground truths.\n",
    "    print(test_labels[:5])\n",
    "    \n",
    "    return hh\n"
   ]
  },
  {
   "cell_type": "code",
   "execution_count": 26,
   "metadata": {
    "scrolled": false
   },
   "outputs": [
    {
     "name": "stdout",
     "output_type": "stream",
     "text": [
      "Epoch 1/25\n",
      "1500/1500 [==============================] - 4s 2ms/step - loss: 0.5143 - accuracy: 0.8152 - val_loss: 0.4124 - val_accuracy: 0.8515\n",
      "Epoch 2/25\n",
      "1500/1500 [==============================] - 3s 2ms/step - loss: 0.3863 - accuracy: 0.8591 - val_loss: 0.3932 - val_accuracy: 0.8559\n",
      "Epoch 3/25\n",
      "1500/1500 [==============================] - 4s 3ms/step - loss: 0.3508 - accuracy: 0.8694 - val_loss: 0.3717 - val_accuracy: 0.8652\n",
      "Epoch 4/25\n",
      "1500/1500 [==============================] - 4s 2ms/step - loss: 0.3268 - accuracy: 0.8790 - val_loss: 0.3775 - val_accuracy: 0.8653\n",
      "Epoch 5/25\n",
      "1500/1500 [==============================] - 3s 2ms/step - loss: 0.3096 - accuracy: 0.8855 - val_loss: 0.3446 - val_accuracy: 0.8738\n",
      "Epoch 6/25\n",
      "1500/1500 [==============================] - 5s 3ms/step - loss: 0.2932 - accuracy: 0.8923 - val_loss: 0.3400 - val_accuracy: 0.8750\n",
      "Epoch 7/25\n",
      "1500/1500 [==============================] - 4s 3ms/step - loss: 0.2812 - accuracy: 0.8955 - val_loss: 0.3211 - val_accuracy: 0.8838\n",
      "Epoch 8/25\n",
      "1500/1500 [==============================] - 3s 2ms/step - loss: 0.2706 - accuracy: 0.9003 - val_loss: 0.3243 - val_accuracy: 0.8835\n",
      "Epoch 9/25\n",
      "1500/1500 [==============================] - 3s 2ms/step - loss: 0.2637 - accuracy: 0.9024 - val_loss: 0.3396 - val_accuracy: 0.8804\n",
      "Epoch 10/25\n",
      "1500/1500 [==============================] - 3s 2ms/step - loss: 0.2540 - accuracy: 0.9069 - val_loss: 0.3202 - val_accuracy: 0.8846\n",
      "Epoch 11/25\n",
      "1500/1500 [==============================] - 4s 3ms/step - loss: 0.2449 - accuracy: 0.9099 - val_loss: 0.3423 - val_accuracy: 0.8811\n",
      "Epoch 12/25\n",
      "1500/1500 [==============================] - 4s 3ms/step - loss: 0.2391 - accuracy: 0.9122 - val_loss: 0.3227 - val_accuracy: 0.8852\n",
      "Epoch 13/25\n",
      "1500/1500 [==============================] - 4s 3ms/step - loss: 0.2331 - accuracy: 0.9134 - val_loss: 0.3198 - val_accuracy: 0.8884\n",
      "Epoch 14/25\n",
      "1500/1500 [==============================] - 4s 3ms/step - loss: 0.2247 - accuracy: 0.9165 - val_loss: 0.3261 - val_accuracy: 0.8873\n",
      "Epoch 15/25\n",
      "1500/1500 [==============================] - 4s 2ms/step - loss: 0.2186 - accuracy: 0.9183 - val_loss: 0.3530 - val_accuracy: 0.8800\n",
      "Epoch 16/25\n",
      "1500/1500 [==============================] - 3s 2ms/step - loss: 0.2146 - accuracy: 0.9199 - val_loss: 0.3428 - val_accuracy: 0.8811\n",
      "Epoch 17/25\n",
      "1500/1500 [==============================] - 3s 2ms/step - loss: 0.2102 - accuracy: 0.9222 - val_loss: 0.3370 - val_accuracy: 0.8816\n",
      "Epoch 18/25\n",
      "1500/1500 [==============================] - 3s 2ms/step - loss: 0.2050 - accuracy: 0.9233 - val_loss: 0.3419 - val_accuracy: 0.8833\n",
      "Epoch 19/25\n",
      "1500/1500 [==============================] - 3s 2ms/step - loss: 0.1989 - accuracy: 0.9273 - val_loss: 0.3499 - val_accuracy: 0.8850\n",
      "Epoch 20/25\n",
      "1500/1500 [==============================] - 4s 3ms/step - loss: 0.1926 - accuracy: 0.9277 - val_loss: 0.3295 - val_accuracy: 0.8899\n",
      "Epoch 21/25\n",
      "1500/1500 [==============================] - 3s 2ms/step - loss: 0.1905 - accuracy: 0.9290 - val_loss: 0.3562 - val_accuracy: 0.8863\n",
      "Epoch 22/25\n",
      "1500/1500 [==============================] - 4s 3ms/step - loss: 0.1862 - accuracy: 0.9306 - val_loss: 0.3510 - val_accuracy: 0.8815\n",
      "Epoch 23/25\n",
      "1500/1500 [==============================] - 3s 2ms/step - loss: 0.1835 - accuracy: 0.9310 - val_loss: 0.3588 - val_accuracy: 0.8852\n",
      "Epoch 24/25\n",
      "1500/1500 [==============================] - 4s 3ms/step - loss: 0.1770 - accuracy: 0.9345 - val_loss: 0.3528 - val_accuracy: 0.8857\n",
      "Epoch 25/25\n",
      "1500/1500 [==============================] - 5s 3ms/step - loss: 0.1726 - accuracy: 0.9350 - val_loss: 0.3607 - val_accuracy: 0.8831\n",
      "313/313 [==============================] - 1s 2ms/step - loss: 0.3948 - accuracy: 0.8779\n",
      "[9 2 1 1 0]\n",
      "[9 2 1 1 6]\n"
     ]
    }
   ],
   "source": [
    "hh_1 = hhl(model3)"
   ]
  },
  {
   "cell_type": "code",
   "execution_count": 27,
   "metadata": {
    "scrolled": false
   },
   "outputs": [
    {
     "name": "stdout",
     "output_type": "stream",
     "text": [
      "Epoch 1/25\n",
      "1500/1500 [==============================] - 5s 3ms/step - loss: 0.5174 - accuracy: 0.8156 - val_loss: 0.4378 - val_accuracy: 0.8399\n",
      "Epoch 2/25\n",
      "1500/1500 [==============================] - 3s 2ms/step - loss: 0.3940 - accuracy: 0.8549 - val_loss: 0.3959 - val_accuracy: 0.8533\n",
      "Epoch 3/25\n",
      "1500/1500 [==============================] - 4s 3ms/step - loss: 0.3570 - accuracy: 0.8686 - val_loss: 0.4087 - val_accuracy: 0.8554\n",
      "Epoch 4/25\n",
      "1500/1500 [==============================] - 4s 2ms/step - loss: 0.3335 - accuracy: 0.8777 - val_loss: 0.3598 - val_accuracy: 0.8748\n",
      "Epoch 5/25\n",
      "1500/1500 [==============================] - 3s 2ms/step - loss: 0.3190 - accuracy: 0.8828 - val_loss: 0.3503 - val_accuracy: 0.8745\n",
      "Epoch 6/25\n",
      "1500/1500 [==============================] - 5s 3ms/step - loss: 0.3031 - accuracy: 0.8881 - val_loss: 0.3342 - val_accuracy: 0.8802\n",
      "Epoch 7/25\n",
      "1500/1500 [==============================] - 5s 3ms/step - loss: 0.2903 - accuracy: 0.8925 - val_loss: 0.3459 - val_accuracy: 0.8753\n",
      "Epoch 8/25\n",
      "1500/1500 [==============================] - 4s 3ms/step - loss: 0.2798 - accuracy: 0.8973 - val_loss: 0.3277 - val_accuracy: 0.8829\n",
      "Epoch 9/25\n",
      "1500/1500 [==============================] - 5s 3ms/step - loss: 0.2709 - accuracy: 0.8988 - val_loss: 0.3318 - val_accuracy: 0.8792\n",
      "Epoch 10/25\n",
      "1500/1500 [==============================] - 5s 3ms/step - loss: 0.2619 - accuracy: 0.9022 - val_loss: 0.3372 - val_accuracy: 0.8792\n",
      "Epoch 11/25\n",
      "1500/1500 [==============================] - 4s 3ms/step - loss: 0.2524 - accuracy: 0.9057 - val_loss: 0.3441 - val_accuracy: 0.8786\n",
      "Epoch 12/25\n",
      "1500/1500 [==============================] - 3s 2ms/step - loss: 0.2443 - accuracy: 0.9105 - val_loss: 0.3469 - val_accuracy: 0.8782\n",
      "Epoch 13/25\n",
      "1500/1500 [==============================] - 4s 3ms/step - loss: 0.2387 - accuracy: 0.9117 - val_loss: 0.3402 - val_accuracy: 0.8813\n",
      "Epoch 14/25\n",
      "1500/1500 [==============================] - 4s 3ms/step - loss: 0.2317 - accuracy: 0.9125 - val_loss: 0.3504 - val_accuracy: 0.8809\n",
      "Epoch 15/25\n",
      "1500/1500 [==============================] - 3s 2ms/step - loss: 0.2277 - accuracy: 0.9145 - val_loss: 0.3593 - val_accuracy: 0.8763\n",
      "Epoch 16/25\n",
      "1500/1500 [==============================] - 4s 3ms/step - loss: 0.2176 - accuracy: 0.9177 - val_loss: 0.3377 - val_accuracy: 0.8802\n",
      "Epoch 17/25\n",
      "1500/1500 [==============================] - 4s 3ms/step - loss: 0.2125 - accuracy: 0.9201 - val_loss: 0.3434 - val_accuracy: 0.8829\n",
      "Epoch 18/25\n",
      "1500/1500 [==============================] - 4s 3ms/step - loss: 0.2067 - accuracy: 0.9226 - val_loss: 0.3340 - val_accuracy: 0.8853\n",
      "Epoch 19/25\n",
      "1500/1500 [==============================] - 4s 3ms/step - loss: 0.2035 - accuracy: 0.9256 - val_loss: 0.3521 - val_accuracy: 0.8789\n",
      "Epoch 20/25\n",
      "1500/1500 [==============================] - 5s 3ms/step - loss: 0.2008 - accuracy: 0.9243 - val_loss: 0.3441 - val_accuracy: 0.8860\n",
      "Epoch 21/25\n",
      "1500/1500 [==============================] - 5s 3ms/step - loss: 0.1941 - accuracy: 0.9281 - val_loss: 0.3476 - val_accuracy: 0.8846\n",
      "Epoch 22/25\n",
      "1500/1500 [==============================] - 4s 3ms/step - loss: 0.1898 - accuracy: 0.9281 - val_loss: 0.3662 - val_accuracy: 0.8831\n",
      "Epoch 23/25\n",
      "1500/1500 [==============================] - 5s 3ms/step - loss: 0.1852 - accuracy: 0.9308 - val_loss: 0.3482 - val_accuracy: 0.8842\n",
      "Epoch 24/25\n",
      "1500/1500 [==============================] - 4s 3ms/step - loss: 0.1798 - accuracy: 0.9329 - val_loss: 0.3919 - val_accuracy: 0.8758\n",
      "Epoch 25/25\n",
      "1500/1500 [==============================] - 3s 2ms/step - loss: 0.1753 - accuracy: 0.9337 - val_loss: 0.3652 - val_accuracy: 0.8848\n",
      "313/313 [==============================] - 1s 3ms/step - loss: 0.3894 - accuracy: 0.8809\n",
      "[9 2 1 1 6]\n",
      "[9 2 1 1 6]\n"
     ]
    }
   ],
   "source": [
    "hh_2 = hhl(model4)"
   ]
  },
  {
   "cell_type": "code",
   "execution_count": 28,
   "metadata": {},
   "outputs": [
    {
     "name": "stdout",
     "output_type": "stream",
     "text": [
      "Epoch 1/25\n",
      "1500/1500 [==============================] - 6s 4ms/step - loss: 0.5722 - accuracy: 0.7940 - val_loss: 0.5041 - val_accuracy: 0.8231\n",
      "Epoch 2/25\n",
      "1500/1500 [==============================] - 5s 4ms/step - loss: 0.4365 - accuracy: 0.8430 - val_loss: 0.4340 - val_accuracy: 0.8420\n",
      "Epoch 3/25\n",
      "1500/1500 [==============================] - 6s 4ms/step - loss: 0.4016 - accuracy: 0.8540 - val_loss: 0.4184 - val_accuracy: 0.8521\n",
      "Epoch 4/25\n",
      "1500/1500 [==============================] - 5s 3ms/step - loss: 0.3806 - accuracy: 0.8633 - val_loss: 0.3901 - val_accuracy: 0.8673\n",
      "Epoch 5/25\n",
      "1500/1500 [==============================] - 5s 3ms/step - loss: 0.3601 - accuracy: 0.8702 - val_loss: 0.3905 - val_accuracy: 0.8644\n",
      "Epoch 6/25\n",
      "1500/1500 [==============================] - 6s 4ms/step - loss: 0.3438 - accuracy: 0.8755 - val_loss: 0.3653 - val_accuracy: 0.8742\n",
      "Epoch 7/25\n",
      "1500/1500 [==============================] - 5s 3ms/step - loss: 0.3327 - accuracy: 0.8790 - val_loss: 0.3669 - val_accuracy: 0.8702\n",
      "Epoch 8/25\n",
      "1500/1500 [==============================] - 6s 4ms/step - loss: 0.3229 - accuracy: 0.8828 - val_loss: 0.3824 - val_accuracy: 0.8643\n",
      "Epoch 9/25\n",
      "1500/1500 [==============================] - 6s 4ms/step - loss: 0.3139 - accuracy: 0.8856 - val_loss: 0.3515 - val_accuracy: 0.8777\n",
      "Epoch 10/25\n",
      "1500/1500 [==============================] - 5s 3ms/step - loss: 0.3024 - accuracy: 0.8896 - val_loss: 0.3705 - val_accuracy: 0.8742\n",
      "Epoch 11/25\n",
      "1500/1500 [==============================] - 4s 3ms/step - loss: 0.2987 - accuracy: 0.8904 - val_loss: 0.3613 - val_accuracy: 0.8730\n",
      "Epoch 12/25\n",
      "1500/1500 [==============================] - 6s 4ms/step - loss: 0.2933 - accuracy: 0.8937 - val_loss: 0.3584 - val_accuracy: 0.8723\n",
      "Epoch 13/25\n",
      "1500/1500 [==============================] - 6s 4ms/step - loss: 0.2888 - accuracy: 0.8947 - val_loss: 0.3694 - val_accuracy: 0.8737\n",
      "Epoch 14/25\n",
      "1500/1500 [==============================] - 6s 4ms/step - loss: 0.2791 - accuracy: 0.8993 - val_loss: 0.3505 - val_accuracy: 0.8802\n",
      "Epoch 15/25\n",
      "1500/1500 [==============================] - 6s 4ms/step - loss: 0.2760 - accuracy: 0.8993 - val_loss: 0.3556 - val_accuracy: 0.8768\n",
      "Epoch 16/25\n",
      "1500/1500 [==============================] - 7s 5ms/step - loss: 0.2729 - accuracy: 0.9014 - val_loss: 0.3554 - val_accuracy: 0.8790\n",
      "Epoch 17/25\n",
      "1500/1500 [==============================] - 6s 4ms/step - loss: 0.2670 - accuracy: 0.9027 - val_loss: 0.3626 - val_accuracy: 0.8778\n",
      "Epoch 18/25\n",
      "1500/1500 [==============================] - 5s 4ms/step - loss: 0.2630 - accuracy: 0.9040 - val_loss: 0.3667 - val_accuracy: 0.8819\n",
      "Epoch 19/25\n",
      "1500/1500 [==============================] - 6s 4ms/step - loss: 0.2569 - accuracy: 0.9066 - val_loss: 0.3677 - val_accuracy: 0.8798\n",
      "Epoch 20/25\n",
      "1500/1500 [==============================] - 6s 4ms/step - loss: 0.2573 - accuracy: 0.9073 - val_loss: 0.3429 - val_accuracy: 0.8833\n",
      "Epoch 21/25\n",
      "1500/1500 [==============================] - 5s 3ms/step - loss: 0.2516 - accuracy: 0.9079 - val_loss: 0.3551 - val_accuracy: 0.8815\n",
      "Epoch 22/25\n",
      "1500/1500 [==============================] - 7s 5ms/step - loss: 0.2454 - accuracy: 0.9084 - val_loss: 0.3667 - val_accuracy: 0.8742 l\n",
      "Epoch 23/25\n",
      "1500/1500 [==============================] - 6s 4ms/step - loss: 0.2417 - accuracy: 0.9120 - val_loss: 0.3592 - val_accuracy: 0.8836\n",
      "Epoch 24/25\n",
      "1500/1500 [==============================] - 6s 4ms/step - loss: 0.2424 - accuracy: 0.9120 - val_loss: 0.3657 - val_accuracy: 0.8800\n",
      "Epoch 25/25\n",
      "1500/1500 [==============================] - 8s 5ms/step - loss: 0.2358 - accuracy: 0.9131 - val_loss: 0.3788 - val_accuracy: 0.8761\n",
      "313/313 [==============================] - 1s 2ms/step - loss: 0.4099 - accuracy: 0.8663\n",
      "WARNING:tensorflow:5 out of the last 5 calls to <function Model.make_predict_function.<locals>.predict_function at 0x0000022F14957C18> triggered tf.function retracing. Tracing is expensive and the excessive number of tracings could be due to (1) creating @tf.function repeatedly in a loop, (2) passing tensors with different shapes, (3) passing Python objects instead of tensors. For (1), please define your @tf.function outside of the loop. For (2), @tf.function has experimental_relax_shapes=True option that relaxes argument shapes that can avoid unnecessary retracing. For (3), please refer to https://www.tensorflow.org/tutorials/customization/performance#python_or_tensor_args and https://www.tensorflow.org/api_docs/python/tf/function for  more details.\n",
      "[9 2 1 1 6]\n",
      "[9 2 1 1 6]\n"
     ]
    }
   ],
   "source": [
    "hh_3 = hhl(model5)"
   ]
  },
  {
   "cell_type": "code",
   "execution_count": 29,
   "metadata": {
    "scrolled": false
   },
   "outputs": [
    {
     "data": {
      "image/png": "[encoded data removed]",
      "text/plain": [
       "<Figure size 1152x504 with 1 Axes>"
      ]
     },
     "metadata": {
      "needs_background": "light"
     },
     "output_type": "display_data"
    }
   ],
   "source": [
    "# создаем модель model\n",
    "model = Sequential([\n",
    "                      Dense(64, activation='relu', input_shape=(784,)),\n",
    "                      Dense(64, activation='tanh'),\n",
    "                      Dense(10, activation='softmax'),\n",
    "                      ])\n",
    "# сохраняем ее веса (это начальная точка) model.save_weights('model.h5')\n",
    "model.save_weights('model.h5')\n",
    "\n",
    "plt.figure(figsize=(16,7))\n",
    "\n",
    "# число рабочих эпох\n",
    "epochs = 15\n",
    "# вектор для выводв результатов\n",
    "epoch = np.arange(epochs+1)\n",
    "\n",
    "# будем изменять оптимизаторы\n",
    "for i_optim in [keras.optimizers.RMSprop(),keras.optimizers.SGD(),keras.optimizers.Adam(),keras.optimizers.Nadam()]:\n",
    "  # создаем рабочую модель modeli куда будем загружать эти вес (она должна быть идентичной структуры)\n",
    "  modeli = Sequential([\n",
    "                      Dense(64, activation='relu', input_shape=(784,)),\n",
    "                      Dense(64, activation='tanh'),\n",
    "                      Dense(10, activation='softmax'),\n",
    "                      ])\n",
    "  # загружаем веса modeli.load_weights('model.h5')\n",
    "  modeli.load_weights('model.h5')\n",
    "  # компилируем modeli с одним из оптимизаторов\n",
    "  modeli.compile(\n",
    "      optimizer=i_optim,\n",
    "      loss='categorical_crossentropy',\n",
    "      metrics=['accuracy'],\n",
    "      )\n",
    "  # вычисляем ошибку для modeli без обучения\n",
    "  hh0_tr = modeli.evaluate(  train_images[:48000,:], to_categorical(train_labels[:48000]),verbose = 0)\n",
    "  hh0_val = modeli.evaluate(  train_images[48000:,:], to_categorical(train_labels[48000:]),verbose = 0)\n",
    "  # проводим обучение модели \n",
    "  hh = modeli.fit(\n",
    "  train_images,\n",
    "  to_categorical(train_labels),\n",
    "  epochs=epochs,\n",
    "  batch_size=32, validation_split=0.2, verbose = 0\n",
    "  )\n",
    "  # картинки\n",
    "  plt.plot(epoch,np.log([hh0_tr[0]]+hh.history['loss']),'-',label = modeli.optimizer.get_config()['name']+' train')\n",
    "  plt.plot(epoch,np.log([hh0_val[0]]+hh.history['val_loss']),'--',label = modeli.optimizer.get_config()['name']+' val')\n",
    "plt.legend()\n",
    "plt.grid('On')\n",
    "\n",
    "plt.title('нейросети от оптимизатора log(loss)')\n",
    "plt.xlabel('epoch')\n",
    "plt.ylabel('log(loss)')\n",
    "plt.show()"
   ]
  },
  {
   "cell_type": "markdown",
   "metadata": {},
   "source": [
    "Лучшим вариантом является SGD, так как наименьший разрыв между accuracy и val_accuracy."
   ]
  },
  {
   "cell_type": "code",
   "execution_count": 30,
   "metadata": {},
   "outputs": [],
   "source": [
    "hh_t = {}\n",
    "hh_a = []\n",
    "hh_v = []\n",
    "hh_list = [hh, hh2, hh_1, hh_2, hh_3]\n",
    "for i in hh_list:\n",
    "    hh_a.append(i.history['accuracy'][-1])\n",
    "    hh_v.append(i.history['val_accuracy'][-1])\n",
    "    \n",
    "    \n",
    "hh_t['accuracy'] = hh_a\n",
    "hh_t['val_accuracy'] = hh_v"
   ]
  },
  {
   "cell_type": "code",
   "execution_count": 41,
   "metadata": {},
   "outputs": [],
   "source": [
    "hh_d = {'layers':[], 'neurons': [], 'accuracy': [], 'val_accuracy': []}\n",
    "l = [2, 2, 3, 5, 10]\n",
    "n = [128, 64, 64, 64, 64]"
   ]
  },
  {
   "cell_type": "code",
   "execution_count": 42,
   "metadata": {},
   "outputs": [],
   "source": [
    "\n",
    "for i in range(5):\n",
    "    hh_d['layers'].append(l[i])\n",
    "    hh_d['neurons'].append(n[i])\n",
    "    hh_d['accuracy'].append(hh_list[i].history['accuracy'][-1])\n",
    "    hh_d['val_accuracy'].append(hh_list[i].history['val_accuracy'][-1])"
   ]
  },
  {
   "cell_type": "code",
   "execution_count": 43,
   "metadata": {},
   "outputs": [
    {
     "data": {
      "text/html": [
       "<div>\n",
       "<style scoped>\n",
       "    .dataframe tbody tr th:only-of-type {\n",
       "        vertical-align: middle;\n",
       "    }\n",
       "\n",
       "    .dataframe tbody tr th {\n",
       "        vertical-align: top;\n",
       "    }\n",
       "\n",
       "    .dataframe thead th {\n",
       "        text-align: right;\n",
       "    }\n",
       "</style>\n",
       "<table border=\"1\" class=\"dataframe\">\n",
       "  <thead>\n",
       "    <tr style=\"text-align: right;\">\n",
       "      <th></th>\n",
       "      <th>layers</th>\n",
       "      <th>neurons</th>\n",
       "      <th>accuracy</th>\n",
       "      <th>val_accuracy</th>\n",
       "    </tr>\n",
       "  </thead>\n",
       "  <tbody>\n",
       "    <tr>\n",
       "      <th>0</th>\n",
       "      <td>2</td>\n",
       "      <td>128</td>\n",
       "      <td>0.923354</td>\n",
       "      <td>0.886083</td>\n",
       "    </tr>\n",
       "    <tr>\n",
       "      <th>1</th>\n",
       "      <td>2</td>\n",
       "      <td>64</td>\n",
       "      <td>0.881813</td>\n",
       "      <td>0.876750</td>\n",
       "    </tr>\n",
       "    <tr>\n",
       "      <th>2</th>\n",
       "      <td>3</td>\n",
       "      <td>64</td>\n",
       "      <td>0.935042</td>\n",
       "      <td>0.883083</td>\n",
       "    </tr>\n",
       "    <tr>\n",
       "      <th>3</th>\n",
       "      <td>5</td>\n",
       "      <td>64</td>\n",
       "      <td>0.933688</td>\n",
       "      <td>0.884833</td>\n",
       "    </tr>\n",
       "    <tr>\n",
       "      <th>4</th>\n",
       "      <td>10</td>\n",
       "      <td>64</td>\n",
       "      <td>0.913063</td>\n",
       "      <td>0.876083</td>\n",
       "    </tr>\n",
       "  </tbody>\n",
       "</table>\n",
       "</div>"
      ],
      "text/plain": [
       "   layers  neurons  accuracy  val_accuracy\n",
       "0       2      128  0.923354      0.886083\n",
       "1       2       64  0.881813      0.876750\n",
       "2       3       64  0.935042      0.883083\n",
       "3       5       64  0.933688      0.884833\n",
       "4      10       64  0.913063      0.876083"
      ]
     },
     "execution_count": 43,
     "metadata": {},
     "output_type": "execute_result"
    }
   ],
   "source": [
    "df = pd.DataFrame(hh_d)\n",
    "df"
   ]
  },
  {
   "cell_type": "markdown",
   "metadata": {},
   "source": [
    "Увеличение количества слоев увеличивает разрыв между accuracy и val_accuracy. Это похоже на переобучение сети. В то время как увеличение количества нейронов не приводит к переобучению."
   ]
  },
  {
   "cell_type": "code",
   "execution_count": 44,
   "metadata": {},
   "outputs": [],
   "source": [
    "from sklearn.metrics import confusion_matrix, ConfusionMatrixDisplay"
   ]
  },
  {
   "cell_type": "code",
   "execution_count": 47,
   "metadata": {},
   "outputs": [
    {
     "data": {
      "text/plain": [
       "array([9, 2, 1, 1, 6, 1, 4, 6, 5, 7], dtype=int64)"
      ]
     },
     "execution_count": 47,
     "metadata": {},
     "output_type": "execute_result"
    }
   ],
   "source": [
    "y_pred = np.argmax(model1.predict(test_images), axis=1)\n",
    "y_pred[:10]"
   ]
  },
  {
   "cell_type": "code",
   "execution_count": 48,
   "metadata": {},
   "outputs": [
    {
     "name": "stdout",
     "output_type": "stream",
     "text": [
      "[[740   1  17  52   4   3 175   1   7   0]\n",
      " [  2 965   1  27   2   0   2   0   1   0]\n",
      " [  7   1 781  19  82   0 106   1   3   0]\n",
      " [ 15   8   9 910  21   1  32   0   4   0]\n",
      " [  0   1  86  47 760   0 105   0   1   0]\n",
      " [  0   0   0   1   0 944   0  32   0  23]\n",
      " [ 96   0  75  39  53   1 725   0  11   0]\n",
      " [  0   0   0   0   0  27   0 939   0  34]\n",
      " [  3   0   0   6   2   8  15   9 957   0]\n",
      " [  1   0   0   0   0   5   0  46   0 948]]\n"
     ]
    }
   ],
   "source": [
    "CM = confusion_matrix(test_labels, y_pred)\n",
    "print(CM)"
   ]
  },
  {
   "cell_type": "code",
   "execution_count": 49,
   "metadata": {},
   "outputs": [
    {
     "data": {
      "image/png": "[encoded data removed]",
      "text/plain": [
       "<Figure size 432x288 with 2 Axes>"
      ]
     },
     "metadata": {
      "needs_background": "light"
     },
     "output_type": "display_data"
    }
   ],
   "source": [
    "disp = ConfusionMatrixDisplay(confusion_matrix=CM, display_labels=np.arange(10))\n",
    "\n",
    "disp.plot(values_format = '.3g')\n",
    "plt.show()"
   ]
  }
 ],
 "metadata": {
  "kernelspec": {
   "display_name": "Python 3",
   "language": "python",
   "name": "python3"
  },
  "language_info": {
   "codemirror_mode": {
    "name": "ipython",
    "version": 3
   },
   "file_extension": ".py",
   "mimetype": "text/x-python",
   "name": "python",
   "nbconvert_exporter": "python",
   "pygments_lexer": "ipython3",
   "version": "3.7.9"
  }
 },
 "nbformat": 4,
 "nbformat_minor": 4
}
